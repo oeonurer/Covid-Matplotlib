{
 "cells": [
  {
   "cell_type": "markdown",
   "metadata": {},
   "source": [
    "Önce kütüphaneleri import edelim."
   ]
  },
  {
   "cell_type": "code",
   "execution_count": 1,
   "metadata": {},
   "outputs": [],
   "source": [
    "import numpy as np \n",
    "import pandas as pd \n",
    "import matplotlib.pyplot as plt "
   ]
  },
  {
   "cell_type": "markdown",
   "metadata": {},
   "source": [
    "Şimdi ise data.csv dosyasımızı okuyalım ve sütunları belirleyelim."
   ]
  },
  {
   "cell_type": "code",
   "execution_count": null,
   "metadata": {},
   "outputs": [],
   "source": [
    "data = pd.read_csv('data.csv') \n",
    "  \n",
    "Y = data.iloc[61:,1].values  \n",
    "R = data.iloc[61:,3].values  \n",
    "D = data.iloc[61:,5].values  \n",
    "X = data.iloc[61:,0]  \n",
    "  \n",
    "plt.plot(X,Y)"
   ]
  },
  {
   "cell_type": "markdown",
   "metadata": {},
   "source": [
    "Şimdi grafiğimizi biçimlendirelim. Renk, title vb. düzenlemeler yapalım."
   ]
  },
  {
   "cell_type": "code",
   "execution_count": null,
   "metadata": {},
   "outputs": [],
   "source": [
    "#Grafik Boyutu\n",
    "plt.figure(figsize=(25,8)) \n",
    "\n",
    "#arka plan (kareli alan sıklığı ve rengi)\n",
    "ax = plt.axes() \n",
    "ax.grid(linewidth=0.4, color='#8f8f8f')  \n",
    "  \n",
    "#arkaplan rengi\n",
    "ax.set_facecolor(\"black\")  \n",
    "ax.set_xlabel('\\nTarih',size=25,color='#4bb4f2') \n",
    "ax.set_ylabel('Toplam Vaka Sayısı\\n', \n",
    "              size=25,color='#4bb4f2') \n",
    "  \n",
    "ax.plot(X,Y, \n",
    "        color='#1F77B4', \n",
    "        marker='o', \n",
    "        linewidth=4, \n",
    "        markersize=15, \n",
    "        markeredgecolor='#035E9B')"
   ]
  },
  {
   "cell_type": "markdown",
   "metadata": {},
   "source": [
    "Title verelim"
   ]
  },
  {
   "cell_type": "code",
   "execution_count": null,
   "metadata": {},
   "outputs": [],
   "source": [
    "plt.title (\"COVID-19 Güncel: Türkiye\\ n\", \n",
    "          boyut = 50, renk = '# 28a9ff')"
   ]
  },
  {
   "cell_type": "markdown",
   "metadata": {},
   "source": [
    "Son Durum"
   ]
  },
  {
   "cell_type": "code",
   "execution_count": null,
   "metadata": {},
   "outputs": [],
   "source": [
    "import numpy as np \n",
    "import pandas as pd \n",
    "import matplotlib.pyplot as plt \n",
    "  \n",
    "data = pd.read_csv('case_time_series.csv') \n",
    "  \n",
    "Y = data.iloc[61:,1].values  \n",
    "R = data.iloc[61:,3].values  \n",
    "D = data.iloc[61:,5].values  \n",
    "X = data.iloc[61:,0]  \n",
    "  \n",
    "plt.figure(figsize=(25,8)) \n",
    "  \n",
    "ax = plt.axes() \n",
    "ax.grid(linewidth=0.4, color='#8f8f8f')  \n",
    "  \n",
    "ax.set_facecolor(\"black\")  \n",
    "ax.set_xlabel('\\nDate',size=25,color='#4bb4f2') \n",
    "ax.set_ylabel('Number of Confirmed Cases\\n', \n",
    "              size=25,color='#4bb4f2') \n",
    "  \n",
    "plt.xticks(rotation='vertical',size='20',color='white') \n",
    "plt.yticks(size=20,color='white') \n",
    "plt.tick_params(size=20,color='white') \n",
    "  \n",
    "for i,j in zip(X,Y): \n",
    "    ax.annotate(str(j),xy=(i,j+100),color='white',size='13') \n",
    "      \n",
    "ax.annotate('Second Lockdown 15th April', \n",
    "            xy=(15.2, 860), \n",
    "            xytext=(19.9,500), \n",
    "            color='white', \n",
    "            size='25', \n",
    "            arrowprops=dict(color='white', \n",
    "                            linewidth=0.025)) \n",
    "  \n",
    "plt.title(\"COVID-19 IN : Daily Confrimed\\n\", \n",
    "          size=50,color='#28a9ff') \n",
    "  \n",
    "ax.plot(X,Y, \n",
    "        color='#1F77B4', \n",
    "        marker='o', \n",
    "        linewidth=4, \n",
    "        markersize=15, \n",
    "        markeredgecolor='#035E9B')"
   ]
  }
 ],
 "metadata": {
  "kernelspec": {
   "display_name": "Python 3",
   "language": "python",
   "name": "python3"
  },
  "language_info": {
   "codemirror_mode": {
    "name": "ipython",
    "version": 3
   },
   "file_extension": ".py",
   "mimetype": "text/x-python",
   "name": "python",
   "nbconvert_exporter": "python",
   "pygments_lexer": "ipython3",
   "version": "3.7.4"
  }
 },
 "nbformat": 4,
 "nbformat_minor": 2
}
